{
 "cells": [
  {
   "cell_type": "markdown",
   "source": [
    "We will use the autograd function in the MXNet framework, thus all data going through the computation graph should be `ndarrays`.\n",
    "In this notebook you will learn the basics of the NumPy package and MXNet's extensions to it."
   ],
   "metadata": {}
  },
  {
   "cell_type": "markdown",
   "source": [
    "To get started, let's import the numpy namespace from MXNet as `np`. For the most parts, you can use it as ordinary `numpy`."
   ],
   "metadata": {}
  },
  {
   "cell_type": "code",
   "execution_count": 1,
   "source": [
    "import mxnet as mx\n",
    "from mxnet import np, npx\n",
    "import numpy as onp"
   ],
   "outputs": [],
   "metadata": {}
  },
  {
   "cell_type": "markdown",
   "source": [
    "### Create arrays\n",
    "Let's see how to create a 2-D array with values from two sets of numbers: 1, 2, 3 and 4, 5, 6.\n",
    "For the homework we will do everything on a CPU so we don't have to specify the `ctx` argument."
   ],
   "metadata": {}
  },
  {
   "cell_type": "code",
   "execution_count": 3,
   "source": [
    "# set ctx=mx.gpu(0) to create one on a GPU\n",
    "a = np.array(((1,2,3),(4,5,6)), ctx=mx.cpu())\n",
    "a"
   ],
   "outputs": [
    {
     "output_type": "execute_result",
     "data": {
      "text/plain": [
       "array([[1., 2., 3.],\n",
       "       [4., 5., 6.]])"
      ]
     },
     "metadata": {},
     "execution_count": 3
    }
   ],
   "metadata": {}
  },
  {
   "cell_type": "markdown",
   "source": [
    "### Inspect an ndarray's attributes\n",
    "As with NumPy, the dimensions of each ndarray are accessible by accessing the .shape attribute. We can also query its size, which is equal to the product of the components of the shape. In addition, .dtype tells the data type of the stored values."
   ],
   "metadata": {}
  },
  {
   "cell_type": "code",
   "execution_count": 4,
   "source": [
    "(a.shape, a.size, a.dtype, a.context)"
   ],
   "outputs": [
    {
     "output_type": "execute_result",
     "data": {
      "text/plain": [
       "((2, 3), 6, dtype('float32'), cpu(0))"
      ]
     },
     "metadata": {},
     "execution_count": 4
    }
   ],
   "metadata": {}
  },
  {
   "cell_type": "markdown",
   "source": [
    "### Create a 2-D Array of Ones\n",
    "We can also create a very simple matrix with the same shape (2 rows by 3 columns), but fill it with 1s."
   ],
   "metadata": {}
  },
  {
   "cell_type": "code",
   "execution_count": 5,
   "source": [
    "ones = np.ones((2,3))\n",
    "ones"
   ],
   "outputs": [
    {
     "output_type": "execute_result",
     "data": {
      "text/plain": [
       "array([[1., 1., 1.],\n",
       "       [1., 1., 1.]])"
      ]
     },
     "metadata": {},
     "execution_count": 5
    }
   ],
   "metadata": {}
  },
  {
   "cell_type": "markdown",
   "source": [
    "### Create an Array of Random Values\n",
    "Often we’ll want to create arrays whose values are sampled randomly. For example, sampling values uniformly between -1 and 1. Here we create the same shape, but with random sampling."
   ],
   "metadata": {}
  },
  {
   "cell_type": "code",
   "execution_count": 6,
   "source": [
    "rand_uniform = np.random.uniform(-1,1,size=(3,3))\n",
    "rand_uniform"
   ],
   "outputs": [
    {
     "output_type": "execute_result",
     "data": {
      "text/plain": [
       "array([[ 0.09762704,  0.18568921,  0.43037868],\n",
       "       [ 0.6885315 ,  0.20552671,  0.71589124],\n",
       "       [ 0.08976638,  0.6945034 , -0.15269041]])"
      ]
     },
     "metadata": {},
     "execution_count": 6
    }
   ],
   "metadata": {}
  },
  {
   "cell_type": "markdown",
   "source": [
    "### Array indexing\n",
    "Here’s an example of reading a particular element, which returns a 1D array with shape (1,)."
   ],
   "metadata": {}
  },
  {
   "cell_type": "code",
   "execution_count": 7,
   "source": [
    "a[1,2]"
   ],
   "outputs": [
    {
     "output_type": "execute_result",
     "data": {
      "text/plain": [
       "array(6.)"
      ]
     },
     "metadata": {},
     "execution_count": 7
    }
   ],
   "metadata": {}
  },
  {
   "cell_type": "code",
   "execution_count": 8,
   "source": [
    "a[:,1:3]"
   ],
   "outputs": [
    {
     "output_type": "execute_result",
     "data": {
      "text/plain": [
       "array([[2., 3.],\n",
       "       [5., 6.]])"
      ]
     },
     "metadata": {},
     "execution_count": 8
    }
   ],
   "metadata": {}
  },
  {
   "cell_type": "code",
   "execution_count": 9,
   "source": [
    "a[-1]"
   ],
   "outputs": [
    {
     "output_type": "execute_result",
     "data": {
      "text/plain": [
       "array([4., 5., 6.])"
      ]
     },
     "metadata": {},
     "execution_count": 9
    }
   ],
   "metadata": {}
  },
  {
   "cell_type": "code",
   "execution_count": 12,
   "source": [
    "a[:,1:3] = 2\n",
    "a"
   ],
   "outputs": [
    {
     "output_type": "execute_result",
     "data": {
      "text/plain": [
       "array([[1., 2., 2.],\n",
       "       [4., 2., 2.]])"
      ]
     },
     "metadata": {},
     "execution_count": 12
    }
   ],
   "metadata": {}
  },
  {
   "cell_type": "code",
   "execution_count": 13,
   "source": [
    "a[1:2,0:2] = 4\n",
    "a"
   ],
   "outputs": [
    {
     "output_type": "execute_result",
     "data": {
      "text/plain": [
       "array([[1., 2., 2.],\n",
       "       [4., 4., 2.]])"
      ]
     },
     "metadata": {},
     "execution_count": 13
    }
   ],
   "metadata": {}
  },
  {
   "cell_type": "markdown",
   "source": [
    "### Converting between MXNet and NumPy\n",
    "Converting MXNet ndarrays to and from NumPy is easy."
   ],
   "metadata": {}
  },
  {
   "cell_type": "code",
   "execution_count": 14,
   "source": [
    "a_np = a.asnumpy()\n",
    "type(a_np)"
   ],
   "outputs": [
    {
     "output_type": "execute_result",
     "data": {
      "text/plain": [
       "numpy.ndarray"
      ]
     },
     "metadata": {},
     "execution_count": 14
    }
   ],
   "metadata": {}
  },
  {
   "cell_type": "markdown",
   "source": [
    "We can also convert NumPy arrays to MXNet.\n"
   ],
   "metadata": {}
  },
  {
   "cell_type": "code",
   "execution_count": 15,
   "source": [
    "type(npx.from_numpy(a_np))"
   ],
   "outputs": [
    {
     "output_type": "execute_result",
     "data": {
      "text/plain": [
       "mxnet.numpy.ndarray"
      ]
     },
     "metadata": {},
     "execution_count": 15
    }
   ],
   "metadata": {
    "scrolled": true
   }
  },
  {
   "cell_type": "markdown",
   "source": [
    "### Check for documentation of a function\n",
    "Type \"?\" after a function to check its documentation."
   ],
   "metadata": {}
  },
  {
   "cell_type": "code",
   "execution_count": 17,
   "source": [
    "np.equal?"
   ],
   "outputs": [
    {
     "output_type": "stream",
     "name": "stdout",
     "text": [
      "\u001b[0;31mSignature:\u001b[0m \u001b[0mnp\u001b[0m\u001b[0;34m.\u001b[0m\u001b[0mequal\u001b[0m\u001b[0;34m(\u001b[0m\u001b[0mx1\u001b[0m\u001b[0;34m,\u001b[0m \u001b[0mx2\u001b[0m\u001b[0;34m,\u001b[0m \u001b[0mout\u001b[0m\u001b[0;34m=\u001b[0m\u001b[0;32mNone\u001b[0m\u001b[0;34m)\u001b[0m\u001b[0;34m\u001b[0m\u001b[0;34m\u001b[0m\u001b[0m\n",
      "\u001b[0;31mDocstring:\u001b[0m\n",
      "Return (x1 == x2) element-wise.\n",
      "Parameters\n",
      "----------\n",
      "x1, x2 : ndarrays or scalars\n",
      "    Input arrays. If ``x1.shape != x2.shape``, they must be broadcastable to\n",
      "    a common shape (which becomes the shape of the output).\n",
      "out : ndarray, None, or tuple of ndarray and None, optional\n",
      "    A location into which the result is stored. If provided, it must have\n",
      "    a shape that the inputs broadcast to. If not provided or `None`,\n",
      "    a freshly-allocated array is returned.\n",
      "Returns\n",
      "-------\n",
      "out : ndarray or scalar\n",
      "    Output array of type bool, element-wise comparison of `x1` and `x2`.\n",
      "    This is a scalar if both `x1` and `x2` are scalars.\n",
      "See Also\n",
      "--------\n",
      "not_equal, greater_equal, less_equal, greater, less\n",
      "Examples\n",
      "--------\n",
      ">>> np.equal(np.ones(2, 1)), np.zeros(1, 3))\n",
      "array([[False, False, False],\n",
      "       [False, False, False]])\n",
      ">>> np.equal(1, np.ones(1))\n",
      "array([ True])\n",
      "\u001b[0;31mFile:\u001b[0m      ~/mxnet/python/mxnet/numpy/multiarray.py\n",
      "\u001b[0;31mType:\u001b[0m      function\n"
     ]
    }
   ],
   "metadata": {}
  },
  {
   "cell_type": "markdown",
   "source": [
    "### Useful functions for the homework"
   ],
   "metadata": {}
  },
  {
   "cell_type": "markdown",
   "source": [
    "Check if two arrays are equal."
   ],
   "metadata": {}
  },
  {
   "cell_type": "code",
   "execution_count": 18,
   "source": [
    "b = np.array([1,2,3])\n",
    "np.equal(a[0, :], b)"
   ],
   "outputs": [
    {
     "output_type": "execute_result",
     "data": {
      "text/plain": [
       "array([ True,  True, False])"
      ]
     },
     "metadata": {},
     "execution_count": 18
    }
   ],
   "metadata": {}
  },
  {
   "cell_type": "code",
   "execution_count": 25,
   "source": [
    "b = np.expand_dims(a, 1)\n",
    "b.shape\n",
    "b\n",
    "a"
   ],
   "outputs": [
    {
     "output_type": "execute_result",
     "data": {
      "text/plain": [
       "array([[1., 2., 2.],\n",
       "       [4., 4., 2.]])"
      ]
     },
     "metadata": {},
     "execution_count": 25
    }
   ],
   "metadata": {}
  },
  {
   "cell_type": "code",
   "execution_count": 21,
   "source": [
    "np.expand_dims?"
   ],
   "outputs": [
    {
     "output_type": "stream",
     "name": "stdout",
     "text": [
      "\u001b[0;31mSignature:\u001b[0m \u001b[0mnp\u001b[0m\u001b[0;34m.\u001b[0m\u001b[0mexpand_dims\u001b[0m\u001b[0;34m(\u001b[0m\u001b[0ma\u001b[0m\u001b[0;34m,\u001b[0m \u001b[0maxis\u001b[0m\u001b[0;34m)\u001b[0m\u001b[0;34m\u001b[0m\u001b[0;34m\u001b[0m\u001b[0m\n",
      "\u001b[0;31mDocstring:\u001b[0m\n",
      "Expand the shape of an array.\n",
      "\n",
      "Insert a new axis that will appear at the `axis` position in the expanded array shape.\n",
      "\n",
      "Parameters\n",
      "----------\n",
      "a : ndarray\n",
      "    Input array.\n",
      "axis : int\n",
      "    Position in the expanded axes where the new axis is placed.\n",
      "\n",
      "Returns\n",
      "-------\n",
      "res : ndarray\n",
      "    Output array. The number of dimensions is one greater than that of\n",
      "    the input array.\n",
      "\n",
      "See Also\n",
      "--------\n",
      "squeeze : The inverse operation, removing singleton dimensions\n",
      "reshape : Insert, remove, and combine dimensions, and resize existing ones\n",
      "\n",
      "Examples\n",
      "--------\n",
      ">>> x = np.array([1,2])\n",
      ">>> x.shape\n",
      "(2,)\n",
      "\n",
      ">>> y = np.expand_dims(x, axis=0)\n",
      ">>> y\n",
      "array([[1., 2.]])\n",
      "\n",
      ">>> y.shape\n",
      "(1, 2)\n",
      "\n",
      ">>> y = np.expand_dims(x, axis=1)  # Equivalent to x[:,np.newaxis]\n",
      ">>> y\n",
      "array([[1.],\n",
      "       [2.]])\n",
      "\n",
      ">>> y.shape\n",
      "(2, 1)\n",
      "\n",
      "Note that some examples may use None instead of np.newaxis. These are the same objects:\n",
      "\n",
      ">>> np.newaxis is None\n",
      "True\n",
      "\u001b[0;31mFile:\u001b[0m      ~/mxnet/python/mxnet/numpy/multiarray.py\n",
      "\u001b[0;31mType:\u001b[0m      function\n"
     ]
    }
   ],
   "metadata": {}
  },
  {
   "cell_type": "code",
   "execution_count": 26,
   "source": [
    "np.vstack?"
   ],
   "outputs": [
    {
     "output_type": "stream",
     "name": "stdout",
     "text": [
      "\u001b[0;31mSignature:\u001b[0m \u001b[0mnp\u001b[0m\u001b[0;34m.\u001b[0m\u001b[0mvstack\u001b[0m\u001b[0;34m(\u001b[0m\u001b[0marrays\u001b[0m\u001b[0;34m,\u001b[0m \u001b[0mout\u001b[0m\u001b[0;34m=\u001b[0m\u001b[0;32mNone\u001b[0m\u001b[0;34m)\u001b[0m\u001b[0;34m\u001b[0m\u001b[0;34m\u001b[0m\u001b[0m\n",
      "\u001b[0;31mDocstring:\u001b[0m\n",
      "Stack arrays in sequence vertically (row wise).\n",
      "\n",
      "This is equivalent to concatenation along the first axis after 1-D arrays\n",
      "of shape `(N,)` have been reshaped to `(1,N)`. Rebuilds arrays divided by\n",
      "`vsplit`.\n",
      "\n",
      "This function makes most sense for arrays with up to 3 dimensions. For\n",
      "instance, for pixel-data with a height (first axis), width (second axis),\n",
      "and r/g/b channels (third axis). The functions `concatenate` and `stack`\n",
      "provide more general stacking and concatenation operations.\n",
      "\n",
      "Parameters\n",
      "----------\n",
      "tup : sequence of ndarrays\n",
      "    The arrays must have the same shape along all but the first axis.\n",
      "    1-D arrays must have the same length.\n",
      "\n",
      "Returns\n",
      "-------\n",
      "stacked : ndarray\n",
      "    The array formed by stacking the given arrays, will be at least 2-D.\n",
      "\n",
      "Examples\n",
      "--------\n",
      ">>> a = np.array([1, 2, 3])\n",
      ">>> b = np.array([2, 3, 4])\n",
      ">>> np.vstack((a, b))\n",
      "array([[1., 2., 3.],\n",
      "       [2., 3., 4.]])\n",
      "\n",
      ">>> a = np.array([[1], [2], [3]])\n",
      ">>> b = np.array([[2], [3], [4]])\n",
      ">>> np.vstack((a, b))\n",
      "array([[1.],\n",
      "       [2.],\n",
      "       [3.],\n",
      "       [2.],\n",
      "       [3.],\n",
      "       [4.]])\n",
      "\u001b[0;31mFile:\u001b[0m      ~/mxnet/python/mxnet/numpy/multiarray.py\n",
      "\u001b[0;31mType:\u001b[0m      function\n"
     ]
    }
   ],
   "metadata": {}
  }
 ],
 "metadata": {
  "kernelspec": {
   "name": "python3",
   "display_name": "Python 3.8.12 64-bit ('2590-hw2': conda)"
  },
  "language_info": {
   "codemirror_mode": {
    "name": "ipython",
    "version": 3
   },
   "file_extension": ".py",
   "mimetype": "text/x-python",
   "name": "python",
   "nbconvert_exporter": "python",
   "pygments_lexer": "ipython3",
   "version": "3.8.12"
  },
  "interpreter": {
   "hash": "a15daab8030fcb7aea5cd079601d17b38ef83c0954f50f4840171f9a32535cc0"
  }
 },
 "nbformat": 4,
 "nbformat_minor": 4
}